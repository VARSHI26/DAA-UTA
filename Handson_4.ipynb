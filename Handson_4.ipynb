{
  "nbformat": 4,
  "nbformat_minor": 0,
  "metadata": {
    "colab": {
      "provenance": []
    },
    "kernelspec": {
      "name": "python3",
      "display_name": "Python 3"
    },
    "language_info": {
      "name": "python"
    }
  },
  "cells": [
    {
      "cell_type": "code",
      "source": [
        "import heapq"
      ],
      "metadata": {
        "id": "JcZ776bO7T82"
      },
      "execution_count": 30,
      "outputs": []
    },
    {
      "cell_type": "markdown",
      "source": [
        "**Problem 0**"
      ],
      "metadata": {
        "id": "jIP4f5JpD4A1"
      }
    },
    {
      "cell_type": "code",
      "source": [
        "def fib(n):\n",
        "    if n == 0:\n",
        "        return 0\n",
        "    if n == 1:\n",
        "        return 1\n",
        "    return fib(n-1) + fib(n-2)\n",
        "print(fib(5))"
      ],
      "metadata": {
        "colab": {
          "base_uri": "https://localhost:8080/"
        },
        "id": "jHU0qPs4_wUg",
        "outputId": "eb701717-afe3-4fbd-ad96-1e5b25a7c79e"
      },
      "execution_count": 31,
      "outputs": [
        {
          "output_type": "stream",
          "name": "stdout",
          "text": [
            "5\n"
          ]
        }
      ]
    },
    {
      "cell_type": "markdown",
      "source": [
        "fib(5)\n",
        "├── fib(4)\n",
        "│   ├── fib(3)\n",
        "│   │   ├── fib(2)\n",
        "│   │   │   ├── fib(1) -> 1\n",
        "│   │   │   ├── fib(0) -> 0\n",
        "│   │   │   └── returns 1\n",
        "│   │   ├── fib(1) -> 1\n",
        "│   │   └── returns 2\n",
        "│   ├── fib(2)\n",
        "│   │   ├── fib(1) -> 1\n",
        "│   │   ├── fib(0) -> 0\n",
        "│   │   └── returns 1\n",
        "│   └── returns 3\n",
        "├── fib(3)\n",
        "│   ├── fib(2)\n",
        "│   │   ├── fib(1) -> 1\n",
        "│   │   ├── fib(0) -> 0\n",
        "│   │   └── returns 1\n",
        "│   ├── fib(1) -> 1\n",
        "│   └── returns 2\n",
        "└── returns 5"
      ],
      "metadata": {
        "id": "_IwT_GcNBB_B"
      }
    },
    {
      "cell_type": "markdown",
      "source": [
        "**Time Complexity Analysis:**\n",
        "\n",
        "Each function call makes two more recursive calls. Total calls is exponential growth and Very inefficient for large n.\n",
        "\n",
        "How to Improve?\n",
        "\n",
        "1.  Memoization (Top-down Dynamic Programming): Store results of already computed Fibonacci numbers to avoid redundant calculations.\n",
        "\n",
        "2.  Iterative Approach (Bottom-up Dynamic Programming): Compute values iteratively, reducing space complexity to  O(1) .\n"
      ],
      "metadata": {
        "id": "hrbtcFNs_9ax"
      }
    },
    {
      "cell_type": "markdown",
      "source": [
        "**Below is the optimized approach**"
      ],
      "metadata": {
        "id": "DBguVBs7AuwV"
      }
    },
    {
      "cell_type": "code",
      "source": [
        "def fib_memo(n, memo={}):\n",
        "    if n in memo:\n",
        "        return memo[n]\n",
        "    if n == 0:\n",
        "        return 0\n",
        "    if n == 1:\n",
        "        return 1\n",
        "    memo[n] = fib_memo(n-1, memo) + fib_memo(n-2, memo)\n",
        "    return memo[n]"
      ],
      "metadata": {
        "id": "fpt3TxraAuLG"
      },
      "execution_count": 32,
      "outputs": []
    },
    {
      "cell_type": "code",
      "source": [
        "print(fib_memo(5))"
      ],
      "metadata": {
        "colab": {
          "base_uri": "https://localhost:8080/"
        },
        "id": "yfDzqHoZA1pe",
        "outputId": "631dc569-731f-44c0-a264-88ad5cea6182"
      },
      "execution_count": 33,
      "outputs": [
        {
          "output_type": "stream",
          "name": "stdout",
          "text": [
            "5\n"
          ]
        }
      ]
    },
    {
      "cell_type": "markdown",
      "source": [
        "**Problem 1**"
      ],
      "metadata": {
        "id": "zNnz1aq3D0kA"
      }
    },
    {
      "cell_type": "code",
      "execution_count": 34,
      "metadata": {
        "id": "6fWu1EK46aQD"
      },
      "outputs": [],
      "source": [
        "def merge_all_lists(lists):\n",
        "    h = []\n",
        "\n",
        "    for index, lst in enumerate(lists):\n",
        "        if len(lst) > 0:\n",
        "            heapq.heappush(h, (lst[0], index, 0))\n",
        "\n",
        "    final_output = []\n",
        "\n",
        "    while len(h) > 0:\n",
        "        item, list_position, element_position = heapq.heappop(h)\n",
        "        final_output.append(item)\n",
        "\n",
        "        if (element_position + 1) < len(lists[list_position]):\n",
        "            next_val = lists[list_position][element_position + 1]\n",
        "            heapq.heappush(h, (next_val, list_position, element_position + 1))\n",
        "\n",
        "    return final_output"
      ]
    },
    {
      "cell_type": "markdown",
      "source": [
        "**Time complexity:**  O(N*K*logK)\n",
        "\n",
        "We can use multithreading to improve the execution"
      ],
      "metadata": {
        "id": "dvJ1N7t3B_nT"
      }
    },
    {
      "cell_type": "code",
      "source": [
        "arrays1 = [\n",
        "    [1, 3, 5, 7],\n",
        "    [2, 4, 6, 8],\n",
        "    [0, 9, 10, 11]\n",
        "]\n",
        "\n",
        "arrays2 = [\n",
        "    [1, 3, 7],\n",
        "    [2, 4, 8],\n",
        "    [9, 10, 11]\n",
        "]\n",
        "\n",
        "print(merge_all_lists(arrays1))\n",
        "print(merge_all_lists(arrays2))"
      ],
      "metadata": {
        "colab": {
          "base_uri": "https://localhost:8080/"
        },
        "id": "9CejRAB_7cRt",
        "outputId": "cd1454e7-2305-445b-e2de-3b2a48454b2b"
      },
      "execution_count": 35,
      "outputs": [
        {
          "output_type": "stream",
          "name": "stdout",
          "text": [
            "[0, 1, 2, 3, 4, 5, 6, 7, 8, 9, 10, 11]\n",
            "[1, 2, 3, 4, 7, 8, 9, 10, 11]\n"
          ]
        }
      ]
    },
    {
      "cell_type": "markdown",
      "source": [
        "**Problem 2**"
      ],
      "metadata": {
        "id": "hSNoWEgREAjc"
      }
    },
    {
      "cell_type": "code",
      "source": [
        "def delete_repeated_elements(lst):\n",
        "    if len(lst) == 0:\n",
        "        return []\n",
        "\n",
        "    unique_values = []\n",
        "    unique_values.append(lst[0])\n",
        "\n",
        "    for idx in range(1, len(lst)):\n",
        "        prev_item = lst[idx - 1]\n",
        "        if lst[idx] != prev_item:\n",
        "            unique_values.append(lst[idx])\n",
        "\n",
        "    return unique_values"
      ],
      "metadata": {
        "id": "sAyY_iOE8Slc"
      },
      "execution_count": 36,
      "outputs": []
    },
    {
      "cell_type": "markdown",
      "source": [
        "**Time complexity:**  O(N)  \n",
        "\n",
        "We can use multithreading to improve the execution speed"
      ],
      "metadata": {
        "id": "w8MVu75GBqZw"
      }
    },
    {
      "cell_type": "code",
      "source": [
        "arr1 = [2, 2, 2, 2, 2]\n",
        "arr2 = [1,2,2,3,4,4,4,5,5,]\n",
        "print(delete_repeated_elements(arr1))\n",
        "print(delete_repeated_elements(arr2))"
      ],
      "metadata": {
        "colab": {
          "base_uri": "https://localhost:8080/"
        },
        "id": "tVgbGPNm8nMe",
        "outputId": "653e6d7e-b379-4b9d-9785-ba39d5b5d49e"
      },
      "execution_count": 37,
      "outputs": [
        {
          "output_type": "stream",
          "name": "stdout",
          "text": [
            "[2]\n",
            "[1, 2, 3, 4, 5]\n"
          ]
        }
      ]
    }
  ]
}